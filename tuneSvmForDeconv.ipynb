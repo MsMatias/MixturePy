{
 "cells": [
  {
   "cell_type": "code",
   "execution_count": 10,
   "metadata": {},
   "outputs": [],
   "source": [
    "import numpy as np\n",
    "import pandas as pd\n",
    "import os, math\n",
    "\n",
    "from sklearn.svm import NuSVR"
   ]
  },
  {
   "cell_type": "code",
   "execution_count": null,
   "metadata": {},
   "outputs": [],
   "source": [
    "# Function nuSvr (Not import)\n",
    "# Run NuSvr with expression Matrix and signature Matrix\n",
    "# @method nuSvr\n",
    "# @param [DataFrame] Signature\n",
    "# @param [DataFrame] Expression\n",
    "# @param [float] nu\n",
    "# @param [float] delta\n",
    "# @return [Array] [{ float } RMSEpredict, { objet } model]\n",
    "def nuSvr(X, Y, nu, delta):\n",
    "    # Run NuSVR\n",
    "    clf = NuSVR(kernel='linear', C=1.0, nu=nu)\n",
    "    clf.fit(X, Y)\n",
    "    \n",
    "    # Get betas\n",
    "    w = clf.coef_\n",
    "\n",
    "    # Set values i to zero where i < 0\n",
    "    w = np.where(w<0, 0, w)    \n",
    "\n",
    "    # Normalize data\n",
    "    w = w/np.sum(w)\n",
    "\n",
    "    # Set values i to zero where i < delta\n",
    "    w = np.where(w<delta, 0, w)    \n",
    "    \n",
    "    # Product betas per rows X\n",
    "    neww = X.apply(lambda row: row*w[0], axis=1)# Get Predict\n",
    "    predict = neww.sum(axis=1)\n",
    "    \n",
    "    # Get Rmse predict for nuseq\n",
    "    RmsePredict = math.sqrt(pow((Y - predict),2).mean())\n",
    "    return [RmsePredict, clf]"
   ]
  },
  {
   "cell_type": "code",
   "execution_count": 11,
   "metadata": {},
   "outputs": [],
   "source": [
    "# Function tuneSvmForDeconv\n",
    "# Create result nuSvr list with nuseq\n",
    "# @method tuneSvmForDeconv\n",
    "# @param [DataFrame] Signature\n",
    "# @param [DataFrame] Expression\n",
    "# @param [array] nuseq\n",
    "# @param [float] delta\n",
    "# @return [DataFrame] [RMSEpredict, model]\n",
    "def tuneSvmForDeconv(X, Y, nuseq, delta):\n",
    "    result = list(map(lambda nu: nuSvr(X,Y, nu, delta), nuseq))\n",
    "    listNuSvr = pd.DataFrame(result, columns=['RMSEpred', 'model'])\n",
    "    \n",
    "    # Get min RMSEPredict\n",
    "    selector = listNuSvr.index[nuSvrList['RMSEpred'] == listNuSvr.min(axis = 0)[0]]\n",
    "    return listNuSvr.iloc[selector[0]]"
   ]
  }
 ],
 "metadata": {
  "kernelspec": {
   "display_name": "Python 3",
   "language": "python",
   "name": "python3"
  },
  "language_info": {
   "codemirror_mode": {
    "name": "ipython",
    "version": 3
   },
   "file_extension": ".py",
   "mimetype": "text/x-python",
   "name": "python",
   "nbconvert_exporter": "python",
   "pygments_lexer": "ipython3",
   "version": "3.7.3"
  }
 },
 "nbformat": 4,
 "nbformat_minor": 2
}
