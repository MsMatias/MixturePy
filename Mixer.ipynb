{
 "cells": [
  {
   "cell_type": "code",
   "execution_count": 3,
   "metadata": {},
   "outputs": [],
   "source": [
    "import numpy as np\n",
    "import pandas as pd\n",
    "import os\n",
    "\n",
    "from multiprocessing import Pool\n",
    "# from ipynb.fs.full.nuSvrR import nuSvrR\n",
    "import nuSvrR\n",
    "from sklearn.preprocessing import StandardScaler"
   ]
  },
  {
   "cell_type": "code",
   "execution_count": 2,
   "metadata": {},
   "outputs": [],
   "source": [
    "# Function Mixer\n",
    "# Main Function\n",
    "# @method Mixer\n",
    "# @param [DataFrame] Signature\n",
    "# @param [DataFrame] Expression\n",
    "# @param [int] num Cores\n",
    "# @return -------\n",
    "def Mixer(X, Y, cores):\n",
    "    print('corriendo')\n",
    "    # Normalize signature Matrix\n",
    "    mean = X.iloc[:, 1:].mean()\n",
    "    std = X.iloc[:, 1:].stack().std()\n",
    "    X.iloc[:, 1:] = (X.iloc[:, 1:] - mean.mean()) / std\n",
    "    \n",
    "    # Intersection between X and Y\n",
    "    X = X.loc[X['Gene symbol'].isin(Y['Gene symbol'])]\n",
    "    Y = Y.loc[Y['Gene symbol'].isin(X['Gene symbol'])]\n",
    "    \n",
    "    # Ordering by GeneSymbol\n",
    "    X = X.sort_values(by=['Gene symbol'])\n",
    "    Y = Y.sort_values(by=['Gene symbol'])\n",
    "\n",
    "    # Slice Gene symbol column\n",
    "    X = X.iloc[:, 1:]\n",
    "    Y = Y.iloc[:, 1:]\n",
    "    X.reset_index(drop=True, inplace=True)\n",
    "    \n",
    "    # Normalize features Matrix\n",
    "    scaler = StandardScaler()\n",
    "    scaler.fit(Y)\n",
    "    Yn = pd.DataFrame(scaler.transform(Y.values), columns=Y.columns, index=Y.index)\n",
    "    \n",
    "    # Run function Multiples cores\n",
    "    if __name__ ==  '__main__':\n",
    "        num_processors = 3\n",
    "        print(num_processors)\n",
    "        p=Pool(processes = num_processors)\n",
    "        out = list(p.map(lambda Yi: nuSvrR(X = X, Y = Yi, nuseq = [0.25,0.5,0.75], delta = 0.007), Yn))\n",
    "        print(out)\n",
    "        print('asd')\n",
    "        return out"
   ]
  }
 ],
 "metadata": {
  "kernelspec": {
   "display_name": "Python 3",
   "language": "python",
   "name": "python3"
  },
  "language_info": {
   "codemirror_mode": {
    "name": "ipython",
    "version": 3
   },
   "file_extension": ".py",
   "mimetype": "text/x-python",
   "name": "python",
   "nbconvert_exporter": "python",
   "pygments_lexer": "ipython3",
   "version": "3.7.3"
  }
 },
 "nbformat": 4,
 "nbformat_minor": 2
}
