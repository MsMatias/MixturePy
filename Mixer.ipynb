{
 "cells": [
  {
   "cell_type": "code",
   "execution_count": 1,
   "metadata": {},
   "outputs": [
    {
     "ename": "ModuleNotFoundError",
     "evalue": "No module named 'ipynb.fs.full.nuSrvR'",
     "output_type": "error",
     "traceback": [
      "\u001b[1;31m---------------------------------------------------------------------------\u001b[0m",
      "\u001b[1;31mModuleNotFoundError\u001b[0m                       Traceback (most recent call last)",
      "\u001b[1;32m<ipython-input-1-b98bf3d506b6>\u001b[0m in \u001b[0;36m<module>\u001b[1;34m\u001b[0m\n\u001b[0;32m      2\u001b[0m \u001b[1;32mimport\u001b[0m \u001b[0mpandas\u001b[0m \u001b[1;32mas\u001b[0m \u001b[0mpd\u001b[0m\u001b[1;33m\u001b[0m\u001b[1;33m\u001b[0m\u001b[0m\n\u001b[0;32m      3\u001b[0m \u001b[1;32mimport\u001b[0m \u001b[0mos\u001b[0m\u001b[1;33m\u001b[0m\u001b[1;33m\u001b[0m\u001b[0m\n\u001b[1;32m----> 4\u001b[1;33m \u001b[1;32mfrom\u001b[0m \u001b[0mipynb\u001b[0m\u001b[1;33m.\u001b[0m\u001b[0mfs\u001b[0m\u001b[1;33m.\u001b[0m\u001b[0mfull\u001b[0m\u001b[1;33m.\u001b[0m\u001b[0mnuSrvR\u001b[0m \u001b[1;32mimport\u001b[0m \u001b[0mnuSrvR\u001b[0m\u001b[1;33m\u001b[0m\u001b[1;33m\u001b[0m\u001b[0m\n\u001b[0m\u001b[0;32m      5\u001b[0m \u001b[1;33m\u001b[0m\u001b[0m\n\u001b[0;32m      6\u001b[0m \u001b[1;32mfrom\u001b[0m \u001b[0mmultiprocessing\u001b[0m \u001b[1;32mimport\u001b[0m \u001b[0mProcess\u001b[0m\u001b[1;33m\u001b[0m\u001b[1;33m\u001b[0m\u001b[0m\n",
      "\u001b[1;31mModuleNotFoundError\u001b[0m: No module named 'ipynb.fs.full.nuSrvR'"
     ]
    }
   ],
   "source": [
    "import numpy as np\n",
    "import pandas as pd\n",
    "import os\n",
    "from ipynb.fs.full.nuSvrR import nuSvrR\n",
    "\n",
    "from multiprocessing import Process\n",
    "from sklearn.preprocessing import StandardScaler"
   ]
  },
  {
   "cell_type": "code",
   "execution_count": null,
   "metadata": {},
   "outputs": [],
   "source": [
    "# Function Mixer\n",
    "# Main Function\n",
    "# @method Mixer\n",
    "# @param [DataFrame] Signature\n",
    "# @param [DataFrame] Expression\n",
    "# @param [int] num Cores\n",
    "# @return -------\n",
    "def Mixer(X, Y, cores):\n",
    "    # Normalize signature Matrix\n",
    "    mean = X.iloc[:, 1:].mean()\n",
    "    std = X.iloc[:, 1:].stack().std()\n",
    "    X.iloc[:, 1:] = (X.iloc[:, 1:] - mean.mean()) / std\n",
    "    \n",
    "    # Intersection between X and Y\n",
    "    X = X.loc[X['Gene symbol'].isin(Y['Gene symbol'])]\n",
    "    Y = Y.loc[Y['Gene symbol'].isin(X['Gene symbol'])]\n",
    "    \n",
    "    # Ordering by GeneSymbol\n",
    "    X = X.sort_values(by=['Gene symbol'])\n",
    "    Y = Y.sort_values(by=['Gene symbol'])\n",
    "\n",
    "    # Slice Gene symbol column\n",
    "    X = X.iloc[:, 1:]\n",
    "    Y = Y.iloc[:, 1:]\n",
    "    X.reset_index(drop=True, inplace=True)\n",
    "    \n",
    "    # Normalize features Matrix\n",
    "    scaler = StandardScaler()\n",
    "    scaler.fit(Y)\n",
    "    Yn = pd.DataFrame(scaler.transform(Y.values), columns=Y.columns, index=Y.index)\n",
    "    \n",
    "    # Run function Multiples cores\n",
    "    out = nuSvrR(X, Yn.iloc[:,2], [0.25,0.5,0.75], 0.007)\n",
    "    return out"
   ]
  }
 ],
 "metadata": {
  "kernelspec": {
   "display_name": "Python 3",
   "language": "python",
   "name": "python3"
  },
  "language_info": {
   "codemirror_mode": {
    "name": "ipython",
    "version": 3
   },
   "file_extension": ".py",
   "mimetype": "text/x-python",
   "name": "python",
   "nbconvert_exporter": "python",
   "pygments_lexer": "ipython3",
   "version": "3.7.3"
  }
 },
 "nbformat": 4,
 "nbformat_minor": 2
}
