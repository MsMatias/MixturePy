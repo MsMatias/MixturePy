{
 "cells": [
  {
   "cell_type": "code",
   "execution_count": 1,
   "metadata": {},
   "outputs": [],
   "source": [
    "import pandas as pd\n",
    "import numpy as np\n",
    "import os\n",
    "import sys\n",
    "import Mixture\n",
    "import multiprocessing\n",
    "import matplotlib.pyplot as plt\n",
    "\n",
    "#Library to read RDS format\n",
    "import rpy2\n",
    "import rpy2.robjects as robjects\n",
    "from rpy2.robjects import pandas2ri\n",
    "from rpy2.robjects.conversion import localconverter"
   ]
  },
  {
   "cell_type": "code",
   "execution_count": 2,
   "metadata": {},
   "outputs": [
    {
     "name": "stdout",
     "output_type": "stream",
     "text": [
      "Num cores: 4\n"
     ]
    }
   ],
   "source": [
    "print('Num cores: ' + str(multiprocessing.cpu_count()))\n",
    "\n",
    "cores = 4\n",
    "iters = 4\n",
    "output = 'NewmanFL_TIL10_500pops'\n",
    "\n",
    "if cores > multiprocessing.cpu_count():\n",
    "    cores = multiprocessing.cpu_count()"
   ]
  },
  {
   "cell_type": "code",
   "execution_count": 3,
   "metadata": {},
   "outputs": [],
   "source": [
    "# Read xlsx files\n",
    "X = pd.read_excel('data/TIL10_signature.xlsx', sheet_name = 0) "
   ]
  },
  {
   "cell_type": "code",
   "execution_count": 4,
   "metadata": {},
   "outputs": [],
   "source": [
    "# Read xlsx files\n",
    "Y = pd.read_excel('data/NewmanFL.xlsx', sheet_name = 0) "
   ]
  },
  {
   "cell_type": "code",
   "execution_count": 5,
   "metadata": {
    "scrolled": true
   },
   "outputs": [
    {
     "name": "stdout",
     "output_type": "stream",
     "text": [
      "Running mixer with subjects (Count: 15)...\n",
      "Normalizing data\n",
      "Processing...\n",
      "--------------------------------------------------\n",
      "Subject: GSM1587831_FL_lymph_node_biopsy_untreated_1063.CEL.gz Nro. Processor: <_MainProcess(MainProcess, started)>\n",
      "--------------------------------------------------\n",
      "--------------------------------------------------\n",
      "Subject: GSM1587832_FL_lymph_node_biopsy_untreated_1080.CEL.gz Nro. Processor: <_MainProcess(MainProcess, started)>\n",
      "--------------------------------------------------\n",
      "--------------------------------------------------\n",
      "Subject: GSM1587833_FL_lymph_node_biopsy_untreated_575.CEL.gz Nro. Processor: <_MainProcess(MainProcess, started)>\n",
      "--------------------------------------------------\n",
      "--------------------------------------------------\n",
      "Subject: GSM1587834_FL_lymph_node_biopsy_untreated_581.CEL.gz Nro. Processor: <_MainProcess(MainProcess, started)>\n",
      "--------------------------------------------------\n",
      "Iter: 1 Subject: GSM1587834_FL_lymph_node_biopsy_untreated_581.CEL.gz\n",
      "Iter: 1 Subject: GSM1587832_FL_lymph_node_biopsy_untreated_1080.CEL.gz\n",
      "Iter: 1 Subject: GSM1587833_FL_lymph_node_biopsy_untreated_575.CEL.gz\n",
      "Iter: 1 Subject: GSM1587831_FL_lymph_node_biopsy_untreated_1063.CEL.gz\n",
      "Iter: 2 Subject: GSM1587834_FL_lymph_node_biopsy_untreated_581.CEL.gz\n",
      "Iter: 2 Subject: GSM1587833_FL_lymph_node_biopsy_untreated_575.CEL.gz\n",
      "Iter: 2 Subject: GSM1587832_FL_lymph_node_biopsy_untreated_1080.CEL.gz\n",
      "Iter: 2 Subject: GSM1587831_FL_lymph_node_biopsy_untreated_1063.CEL.gz\n",
      "Iter: 3 Subject: GSM1587832_FL_lymph_node_biopsy_untreated_1080.CEL.gz\n",
      "Iter: 3 Subject: GSM1587833_FL_lymph_node_biopsy_untreated_575.CEL.gz\n",
      "Iter: 3 Subject: GSM1587834_FL_lymph_node_biopsy_untreated_581.CEL.gz\n",
      "Iter: 3 Subject: GSM1587831_FL_lymph_node_biopsy_untreated_1063.CEL.gz\n",
      "--------------------------------------------------\n",
      "Subject: GSM1587835_FL_lymph_node_biopsy_untreated_598.CEL.gz Nro. Processor: <_MainProcess(MainProcess, started)>\n",
      "--------------------------------------------------\n",
      "--------------------------------------------------\n",
      "Subject: GSM1587836_FL_lymph_node_biopsy_untreated_639.CEL.gz Nro. Processor: <_MainProcess(MainProcess, started)>\n",
      "--------------------------------------------------\n",
      "--------------------------------------------------\n",
      "Subject: GSM1587837_FL_lymph_node_biopsy_untreated_664.CEL.gz Nro. Processor: <_MainProcess(MainProcess, started)>\n",
      "--------------------------------------------------\n",
      "Iter: 4 Subject: GSM1587831_FL_lymph_node_biopsy_untreated_1063.CEL.gz\n",
      "Iter: 1 Subject: GSM1587835_FL_lymph_node_biopsy_untreated_598.CEL.gz\n",
      "Iter: 1 Subject: GSM1587836_FL_lymph_node_biopsy_untreated_639.CEL.gz\n",
      "Iter: 1 Subject: GSM1587837_FL_lymph_node_biopsy_untreated_664.CEL.gz\n",
      "--------------------------------------------------\n",
      "Subject: GSM1587838_FL_lymph_node_biopsy_untreated_666.CEL.gz Nro. Processor: <_MainProcess(MainProcess, started)>\n",
      "--------------------------------------------------\n",
      "Iter: 2 Subject: GSM1587835_FL_lymph_node_biopsy_untreated_598.CEL.gz\n",
      "Iter: 2 Subject: GSM1587836_FL_lymph_node_biopsy_untreated_639.CEL.gz\n",
      "Iter: 2 Subject: GSM1587837_FL_lymph_node_biopsy_untreated_664.CEL.gz\n",
      "Iter: 3 Subject: GSM1587835_FL_lymph_node_biopsy_untreated_598.CEL.gz\n",
      "Iter: 1 Subject: GSM1587838_FL_lymph_node_biopsy_untreated_666.CEL.gz\n",
      "Iter: 3 Subject: GSM1587836_FL_lymph_node_biopsy_untreated_639.CEL.gz\n",
      "Iter: 3 Subject: GSM1587837_FL_lymph_node_biopsy_untreated_664.CEL.gz--------------------------------------------------\n",
      "Subject: GSM1587839_FL_lymph_node_biopsy_untreated_695.CEL.gz Nro. Processor: <_MainProcess(MainProcess, started)>\n",
      "\n",
      "--------------------------------------------------\n",
      "Iter: 2 Subject: GSM1587838_FL_lymph_node_biopsy_untreated_666.CEL.gz\n",
      "Iter: 4 Subject: GSM1587836_FL_lymph_node_biopsy_untreated_639.CEL.gz\n",
      "Iter: 1 Subject: GSM1587839_FL_lymph_node_biopsy_untreated_695.CEL.gz\n",
      "--------------------------------------------------\n",
      "Subject: GSM1587840_FL_lymph_node_biopsy_untreated_706.CEL.gz Nro. Processor: <_MainProcess(MainProcess, started)>\n",
      "--------------------------------------------------\n",
      "Iter: 3 Subject: GSM1587838_FL_lymph_node_biopsy_untreated_666.CEL.gz\n",
      "--------------------------------------------------\n",
      "Subject: GSM1587841_FL_lymph_node_biopsy_untreated_726.CEL.gz Nro. Processor: <_MainProcess(MainProcess, started)>\n",
      "--------------------------------------------------\n",
      "Iter: 2 Subject: GSM1587839_FL_lymph_node_biopsy_untreated_695.CEL.gz\n",
      "Iter: 1 Subject: GSM1587841_FL_lymph_node_biopsy_untreated_726.CEL.gz\n",
      "Iter: 1 Subject: GSM1587840_FL_lymph_node_biopsy_untreated_706.CEL.gz\n",
      "--------------------------------------------------\n",
      "Subject: GSM1587842_FL_lymph_node_biopsy_untreated_731.CEL.gz Nro. Processor: <_MainProcess(MainProcess, started)>\n",
      "--------------------------------------------------\n",
      "Iter: 3 Subject: GSM1587839_FL_lymph_node_biopsy_untreated_695.CEL.gz\n",
      "Iter: 2 Subject: GSM1587841_FL_lymph_node_biopsy_untreated_726.CEL.gz\n",
      "Iter: 2 Subject: GSM1587840_FL_lymph_node_biopsy_untreated_706.CEL.gz\n",
      "--------------------------------------------------\n",
      "Subject: GSM1587843_FL_lymph_node_biopsy_untreated_944.CEL.gz Nro. Processor: <_MainProcess(MainProcess, started)>\n",
      "--------------------------------------------------\n",
      "Iter: 1 Subject: GSM1587842_FL_lymph_node_biopsy_untreated_731.CEL.gz\n",
      "Iter: 3 Subject: GSM1587841_FL_lymph_node_biopsy_untreated_726.CEL.gz\n",
      "Iter: 3 Subject: GSM1587840_FL_lymph_node_biopsy_untreated_706.CEL.gz\n",
      "Iter: 2 Subject: GSM1587842_FL_lymph_node_biopsy_untreated_731.CEL.gz\n",
      "Iter: 1 Subject: GSM1587843_FL_lymph_node_biopsy_untreated_944.CEL.gz\n",
      "--------------------------------------------------\n",
      "Subject: GSM1587844_FL_lymph_node_biopsy_untreated_959.CEL.gz Nro. Processor: <_MainProcess(MainProcess, started)>\n",
      "--------------------------------------------------\n",
      "Iter: 3 Subject: GSM1587842_FL_lymph_node_biopsy_untreated_731.CEL.gz\n",
      "Iter: 2 Subject: GSM1587843_FL_lymph_node_biopsy_untreated_944.CEL.gz\n",
      "Iter: 1 Subject: GSM1587844_FL_lymph_node_biopsy_untreated_959.CEL.gz\n",
      "Iter: 3 Subject: GSM1587843_FL_lymph_node_biopsy_untreated_944.CEL.gz\n",
      "Iter: 2 Subject: GSM1587844_FL_lymph_node_biopsy_untreated_959.CEL.gz\n",
      "Iter: 3 Subject: GSM1587844_FL_lymph_node_biopsy_untreated_959.CEL.gz\n",
      "_____________________________________________________________________\n",
      "Finish nuSvm\n",
      "Finish mixer\n",
      "Get Medias\n",
      "Creating population (Count: 4)...\n",
      "--------------------------------------------------------------------------------------------------------------------------------------------------------------------------------------------------------\n",
      "\n",
      "\n",
      "Creating Subject: 3 Nro. Processor: <_MainProcess(MainProcess, started)>\n",
      "--------------------------------------------------\n",
      "\n",
      "Creating Subject: 2 Nro. Processor: <_MainProcess(MainProcess, started)>\n",
      "--------------------------------------------------\n",
      "Creating Subject: 0 Nro. Processor: <_MainProcess(MainProcess, started)>\n",
      "--------------------------------------------------\n",
      "Creating Subject: 1 Nro. Processor: <_MainProcess(MainProcess, started)>\n",
      "--------------------------------------------------\n",
      "Finish creating population\n",
      "Finish\n",
      "Running mixer with porpulationBased (Count: 5)\n",
      "Normalizing data\n",
      "Processing...\n",
      "----------------------------------------------------------------------------------------------------\n",
      "Subject: 1 Nro. Processor: <_MainProcess(MainProcess, started)>\n",
      "--------------------------------------------------\n",
      "--------------------------------------------------\n",
      "Subject: 2 Nro. Processor: <_MainProcess(MainProcess, started)>\n",
      "--------------------------------------------------\n",
      "\n",
      "Subject: 0 Nro. Processor: <_MainProcess(MainProcess, started)>\n",
      "--------------------------------------------------\n",
      "--------------------------------------------------\n",
      "Subject: 3 Nro. Processor: <_MainProcess(MainProcess, started)>\n",
      "--------------------------------------------------\n",
      "Iter: 1 Subject: 2\n",
      "Iter: 1 Subject: 1\n",
      "Iter: 1 Subject: 0\n",
      "Iter: 1 Subject: 3\n",
      "Iter: 2 Subject: 1\n",
      "Iter: 2 Subject: 2\n",
      "Iter: 2 Subject: 3\n",
      "Iter: 2 Subject: 0\n",
      "Iter: 3 Subject: 2\n",
      "Iter: 3 Subject: 3\n",
      "Iter: 3 Subject: 1\n",
      "Iter: 3 Subject: 0\n",
      "Iter: 4 Subject: 1\n",
      "_____________________________________________________________________\n",
      "Finish nuSvm\n",
      "Finish\n"
     ]
    }
   ],
   "source": [
    "# Run Mixer Function\n",
    "if __name__ == '__main__':\n",
    "    result, pValues = Mixture.Mixture(X, Y , cores, iters, output)"
   ]
  },
  {
   "cell_type": "code",
   "execution_count": 10,
   "metadata": {},
   "outputs": [
    {
     "data": {
      "text/plain": [
       "pandas.core.frame.DataFrame"
      ]
     },
     "execution_count": 10,
     "metadata": {},
     "output_type": "execute_result"
    }
   ],
   "source": [
    "type(result)"
   ]
  },
  {
   "cell_type": "code",
   "execution_count": 6,
   "metadata": {
    "scrolled": true
   },
   "outputs": [
    {
     "ename": "NameError",
     "evalue": "name 'subject' is not defined",
     "output_type": "error",
     "traceback": [
      "\u001b[0;31m---------------------------------------------------------------------------\u001b[0m",
      "\u001b[0;31mNameError\u001b[0m                                 Traceback (most recent call last)",
      "\u001b[0;32m<ipython-input-6-82ca5fad9298>\u001b[0m in \u001b[0;36m<module>\u001b[0;34m\u001b[0m\n\u001b[1;32m      1\u001b[0m \u001b[0;31m# Getting Real Betas Matrix\u001b[0m\u001b[0;34m\u001b[0m\u001b[0;34m\u001b[0m\u001b[0;34m\u001b[0m\u001b[0m\n\u001b[0;32m----> 2\u001b[0;31m \u001b[0mvector\u001b[0m \u001b[0;34m=\u001b[0m \u001b[0;34m[\u001b[0m\u001b[0mx\u001b[0m\u001b[0;34m[\u001b[0m\u001b[0;36m0\u001b[0m\u001b[0;34m]\u001b[0m \u001b[0;32mfor\u001b[0m \u001b[0mx\u001b[0m \u001b[0;32min\u001b[0m \u001b[0msubject\u001b[0m\u001b[0;34m]\u001b[0m\u001b[0;34m\u001b[0m\u001b[0;34m\u001b[0m\u001b[0m\n\u001b[0m\u001b[1;32m      3\u001b[0m \u001b[0mcolumns\u001b[0m \u001b[0;34m=\u001b[0m \u001b[0;34m[\u001b[0m\u001b[0;34m'V'\u001b[0m \u001b[0;34m+\u001b[0m \u001b[0mstr\u001b[0m\u001b[0;34m(\u001b[0m\u001b[0mx\u001b[0m\u001b[0;34m+\u001b[0m\u001b[0;36m1\u001b[0m\u001b[0;34m)\u001b[0m \u001b[0;32mfor\u001b[0m \u001b[0mx\u001b[0m \u001b[0;32min\u001b[0m \u001b[0mrange\u001b[0m\u001b[0;34m(\u001b[0m\u001b[0mlen\u001b[0m\u001b[0;34m(\u001b[0m\u001b[0msubject\u001b[0m\u001b[0;34m)\u001b[0m\u001b[0;34m)\u001b[0m\u001b[0;34m]\u001b[0m\u001b[0;34m\u001b[0m\u001b[0;34m\u001b[0m\u001b[0m\n\u001b[1;32m      4\u001b[0m \u001b[0mBetas\u001b[0m \u001b[0;34m=\u001b[0m \u001b[0mpd\u001b[0m\u001b[0;34m.\u001b[0m\u001b[0mDataFrame\u001b[0m\u001b[0;34m(\u001b[0m\u001b[0mnp\u001b[0m\u001b[0;34m.\u001b[0m\u001b[0mcolumn_stack\u001b[0m\u001b[0;34m(\u001b[0m\u001b[0mvector\u001b[0m\u001b[0;34m)\u001b[0m\u001b[0;34m,\u001b[0m \u001b[0mcolumns\u001b[0m\u001b[0;34m=\u001b[0m\u001b[0mcolumns\u001b[0m\u001b[0;34m)\u001b[0m\u001b[0;34m\u001b[0m\u001b[0;34m\u001b[0m\u001b[0m\n",
      "\u001b[0;31mNameError\u001b[0m: name 'subject' is not defined"
     ]
    }
   ],
   "source": [
    "# Getting Real Betas Matrix\n",
    "vector = [x[0] for x in subject]\n",
    "columns = ['V' + str(x+1) for x in range(len(subject))]\n",
    "Betas = pd.DataFrame(np.column_stack(vector), columns=columns)"
   ]
  },
  {
   "cell_type": "code",
   "execution_count": null,
   "metadata": {},
   "outputs": [],
   "source": [
    "def blandAltman (betas, result):\n",
    "    betahat = result.Subjects[0].MIXprop[0].T.to_numpy(copy=True)\n",
    "    betahat = betahat.flatten()\n",
    "    \n",
    "    betasim = betas.to_numpy(copy=True)\n",
    "    betasim = betasim.flatten()\n",
    "    \n",
    "    df = pd.DataFrame(np.transpose([betahat, betasim, (betahat - betasim)]), columns = ['betahat', 'betasim', 'difs'])\n",
    "    summary = pd.DataFrame([[np.mean(df.difs),np.std(df.difs),np.min(df.difs),np.max(df.difs)]], columns = ['mn', 'sd', 'mi', 'mx'])\n",
    "    return df, summary\n",
    "       "
   ]
  },
  {
   "cell_type": "code",
   "execution_count": null,
   "metadata": {},
   "outputs": [],
   "source": [
    "ba, summary = blandAltman (Betas, result)"
   ]
  },
  {
   "cell_type": "code",
   "execution_count": null,
   "metadata": {},
   "outputs": [],
   "source": [
    "def blandAltamGraph(ba, summary):\n",
    "    fig, ax = plt.subplots(figsize=(16,8))\n",
    "    ax.plot(ba.betasim, ba.difs, 'k.')\n",
    "    plt.xlabel('Beta Sim')\n",
    "    plt.ylabel('Difs')\n",
    "    ax.axhline(summary.mn[0])\n",
    "    ax.axhline(summary.mn[0]+2*summary.sd[0])\n",
    "    ax.axhline(summary.mn[0]-2*summary.sd[0])"
   ]
  },
  {
   "cell_type": "code",
   "execution_count": null,
   "metadata": {},
   "outputs": [],
   "source": [
    "blandAltamGraph(ba, summary)"
   ]
  }
 ],
 "metadata": {
  "kernelspec": {
   "display_name": "Python 3",
   "language": "python",
   "name": "python3"
  },
  "language_info": {
   "codemirror_mode": {
    "name": "ipython",
    "version": 3
   },
   "file_extension": ".py",
   "mimetype": "text/x-python",
   "name": "python",
   "nbconvert_exporter": "python",
   "pygments_lexer": "ipython3",
   "version": "3.6.7"
  }
 },
 "nbformat": 4,
 "nbformat_minor": 2
}
