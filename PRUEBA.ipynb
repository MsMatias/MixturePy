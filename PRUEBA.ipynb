{
 "cells": [
  {
   "cell_type": "code",
   "execution_count": 1,
   "metadata": {},
   "outputs": [],
   "source": [
    "import pandas as pd\n",
    "import numpy as np\n",
    "import os\n",
    "from Mixture import Mixture\n",
    "from IPython.core.interactiveshell import InteractiveShell\n",
    "InteractiveShell.ast_node_interactivity = \"all\""
   ]
  },
  {
   "cell_type": "code",
   "execution_count": 2,
   "metadata": {},
   "outputs": [],
   "source": [
    "# Read xlsx files\n",
    "X = pd.read_excel('LM22Signature.xlsx', sheet_name = 0)\n",
    "Y = pd.read_excel('BRCA.subsample.xlsx', sheet_name = 0)"
   ]
  },
  {
   "cell_type": "code",
   "execution_count": 3,
   "metadata": {
    "scrolled": false
   },
   "outputs": [
    {
     "name": "stdout",
     "output_type": "stream",
     "text": [
      "Running mixer with subjects (Count: 6)...\n",
      "Finish mixer\n"
     ]
    }
   ],
   "source": [
    "# Run Mixer Function\n",
    "data = Mixture(X, Y , 4, 2, nameFile = 'Salida_Cancer')"
   ]
  },
  {
   "cell_type": "code",
   "execution_count": 4,
   "metadata": {},
   "outputs": [
    {
     "data": {
      "text/plain": [
       "[Wa               B cells naive  B cells memory  Plasma cells...\n",
       " Wp               B cells naive  B cells memory  Plasma cells...\n",
       " RMSEa                                                  0.999353\n",
       " RMSEp                                                    1.1111\n",
       " Ra                                                    0.0401579\n",
       " Rp                                                    0.0401579\n",
       " BestParams                                                 0.25\n",
       " Iter                                                          4\n",
       " dtype: object, Wa               B cells naive  B cells memory  Plasma cells...\n",
       " Wp               B cells naive  B cells memory  Plasma cells...\n",
       " RMSEa                                                  0.980563\n",
       " RMSEp                                                   1.02211\n",
       " Ra                                                     0.255464\n",
       " Rp                                                     0.255464\n",
       " BestParams                                                 0.25\n",
       " Iter                                                          4\n",
       " dtype: object, Wa               B cells naive  B cells memory  Plasma cells...\n",
       " Wp               B cells naive  B cells memory  Plasma cells...\n",
       " RMSEa                                                    0.9582\n",
       " RMSEp                                                   0.88631\n",
       " Ra                                                     0.464927\n",
       " Rp                                                     0.464927\n",
       " BestParams                                                 0.25\n",
       " Iter                                                          3\n",
       " dtype: object, Wa               B cells naive  B cells memory  Plasma cells...\n",
       " Wp               B cells naive  B cells memory  Plasma cells...\n",
       " RMSEa                                                  0.996591\n",
       " RMSEp                                                   1.03648\n",
       " Ra                                                    0.0930445\n",
       " Rp                                                    0.0930445\n",
       " BestParams                                                 0.25\n",
       " Iter                                                          4\n",
       " dtype: object, Wa               B cells naive  B cells memory  Plasma cells...\n",
       " Wp               B cells naive  B cells memory  Plasma cells...\n",
       " RMSEa                                                  0.994255\n",
       " RMSEp                                                   1.07247\n",
       " Ra                                                     0.108073\n",
       " Rp                                                     0.108073\n",
       " BestParams                                                  0.5\n",
       " Iter                                                          5\n",
       " dtype: object]"
      ]
     },
     "execution_count": 4,
     "metadata": {},
     "output_type": "execute_result"
    }
   ],
   "source": [
    "data"
   ]
  }
 ],
 "metadata": {
  "kernelspec": {
   "display_name": "Python 3",
   "language": "python",
   "name": "python3"
  },
  "language_info": {
   "codemirror_mode": {
    "name": "ipython",
    "version": 3
   },
   "file_extension": ".py",
   "mimetype": "text/x-python",
   "name": "python",
   "nbconvert_exporter": "python",
   "pygments_lexer": "ipython3",
   "version": "3.7.3"
  }
 },
 "nbformat": 4,
 "nbformat_minor": 2
}
