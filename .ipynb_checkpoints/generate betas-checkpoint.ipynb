{
 "cells": [
  {
   "cell_type": "code",
   "execution_count": 2,
   "metadata": {},
   "outputs": [],
   "source": [
    "import pandas as pd\n",
    "import numpy as np\n",
    "import os\n",
    "import sys\n",
    "import Mixture\n",
    "import multiprocessing\n",
    "from joblib import Parallel, delayed\n",
    "from random import seed\n",
    "from random import sample \n",
    "from random import randint"
   ]
  },
  {
   "cell_type": "code",
   "execution_count": 5,
   "metadata": {},
   "outputs": [],
   "source": [
    "linestil10 = [2, 6]\n",
    "linestil7 = [2, 4]\n",
    "lineslm22 = [2, 11]\n",
    "cpu = multiprocessing.cpu_count()\n",
    "rango = 1000"
   ]
  },
  {
   "cell_type": "code",
   "execution_count": 6,
   "metadata": {},
   "outputs": [],
   "source": [
    "til9 = pd.read_excel('data/TIL9_signature.xlsx', sheet_name = 0)"
   ]
  },
  {
   "cell_type": "code",
   "execution_count": 4,
   "metadata": {},
   "outputs": [],
   "source": [
    "def createBetas (X, a, b, n):\n",
    "\n",
    "    ns = randint(a, b)\n",
    "    r = np.random.uniform(1, 0.2, ns)\n",
    "    rn = r/r.sum()\n",
    "    id = sample(range(n-1), ns)\n",
    "    betas = np.repeat(.0, n, axis=0)\n",
    "    for index, i in enumerate(id, start = 0):\n",
    "        betas[i] = rn[index]\n",
    "\n",
    "    vector = X.to_numpy(copy=True)    \n",
    "    vector = vector.flatten()\n",
    "        \n",
    "    A = np.dot(X, betas) + vector[sample(range(len(vector)), len(X.index))]\n",
    "\n",
    "    return betas, id, A"
   ]
  },
  {
   "cell_type": "code",
   "execution_count": 5,
   "metadata": {
    "scrolled": true
   },
   "outputs": [],
   "source": [
    "X = dataFrameSignature.iloc[:, 1:]\n",
    "\n",
    "subjects = Parallel(n_jobs=cpu, backend='threading')(delayed(createBetas)(X = X, a = lines[0], b = lines[1], n = len(X.columns)) for i in range(rango))\n",
    "\n",
    "# Getting expression matrix\n",
    "vector = [x[2] for x in subjects]\n",
    "columns = ['V' + str(x+1) for x in range(len(subjects))]\n",
    "Y2 = pd.DataFrame(np.column_stack(vector), columns=columns)\n",
    "Y2.insert(0, 'Gene symbol', dataFrameSignature['Gene symbol'])\n",
    "\n",
    "# Getting Real Betas Matrix\n",
    "vector = [x[0] for x in subjects]\n",
    "columns = ['V' + str(x+1) for x in range(len(subjects))]\n",
    "betas = pd.DataFrame(np.column_stack(vector), columns=columns)\n",
    "\n",
    "X = dataFrameSignature\n",
    "\n",
    "vector = [len(x[1]) for x in subjects]\n",
    "ids = pd.DataFrame(np.column_stack(vector))   "
   ]
  },
  {
   "cell_type": "code",
   "execution_count": null,
   "metadata": {},
   "outputs": [],
   "source": []
  }
 ],
 "metadata": {
  "kernelspec": {
   "display_name": "Python 3",
   "language": "python",
   "name": "python3"
  },
  "language_info": {
   "codemirror_mode": {
    "name": "ipython",
    "version": 3
   },
   "file_extension": ".py",
   "mimetype": "text/x-python",
   "name": "python",
   "nbconvert_exporter": "python",
   "pygments_lexer": "ipython3",
   "version": "3.6.9"
  }
 },
 "nbformat": 4,
 "nbformat_minor": 4
}
