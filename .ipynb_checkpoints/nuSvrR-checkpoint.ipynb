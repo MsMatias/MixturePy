{
 "cells": [
  {
   "cell_type": "code",
   "execution_count": 1,
   "metadata": {},
   "outputs": [],
   "source": [
    "import numpy as np\n",
    "import pandas as pd\n",
    "import os\n",
    "\n",
    "from ipynb.fs.full.tuneSvmForDeconv import tuneSvmForDeconv"
   ]
  },
  {
   "cell_type": "code",
   "execution_count": 2,
   "metadata": {},
   "outputs": [],
   "source": [
    "# Function nuSvrR\n",
    "# ----------------\n",
    "# @method nuSvrR\n",
    "# @param [DataFrame] Signature\n",
    "# @param [DataFrame] Expression\n",
    "# @param [array] nuseq\n",
    "# @param [float] delta\n",
    "# @return -------------\n",
    "def nuSvrR(X, Y, nuseq = [0.25,0.5,0.75], delta = 0.007):\n",
    "    \n",
    "    wsel = [1 for x in range(len(X.columns))]\n",
    "    wsel = pd.DataFrame(wsel, X.columns).T\n",
    "    ok = True\n",
    "    i = 0\n",
    "    \n",
    "    while ok:\n",
    "        i = i + 1\n",
    "        # Run function\n",
    "        XX = X.loc[:, X.columns.isin(wsel.columns[wsel.values[0] > 0])]\n",
    "        model = tuneSvmForDeconv(X = XX, Y, [0.25,0.5,0.75], 0.007)\n",
    "        # Get betas\n",
    "        w = model.coef_\n",
    "        # Set values i to zero where i < 0\n",
    "        w = np.where(w<0, 0, w)\n",
    "        absW = w\n",
    "        \n",
    "        # Normalize data\n",
    "        w = w/np.sum(w)\n",
    "    "
   ]
  }
 ],
 "metadata": {
  "kernelspec": {
   "display_name": "Python 3",
   "language": "python",
   "name": "python3"
  },
  "language_info": {
   "codemirror_mode": {
    "name": "ipython",
    "version": 3
   },
   "file_extension": ".py",
   "mimetype": "text/x-python",
   "name": "python",
   "nbconvert_exporter": "python",
   "pygments_lexer": "ipython3",
   "version": "3.7.3"
  }
 },
 "nbformat": 4,
 "nbformat_minor": 2
}
